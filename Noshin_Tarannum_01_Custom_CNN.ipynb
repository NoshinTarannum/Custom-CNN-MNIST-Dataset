{
  "nbformat": 4,
  "nbformat_minor": 0,
  "metadata": {
    "colab": {
      "provenance": [],
      "authorship_tag": "ABX9TyNUbcufiKgvfSsXwsvWBy2F",
      "include_colab_link": true
    },
    "kernelspec": {
      "name": "python3",
      "display_name": "Python 3"
    },
    "language_info": {
      "name": "python"
    }
  },
  "cells": [
    {
      "cell_type": "markdown",
      "metadata": {
        "id": "view-in-github",
        "colab_type": "text"
      },
      "source": [
        "<a href=\"https://colab.research.google.com/github/NoshinTarannum/Custom-CNN-MNIST-Dataset/blob/main/19221014_Noshin_Tarannum_Rahman_01_Custom_CNN.ipynb\" target=\"_parent\"><img src=\"https://colab.research.google.com/assets/colab-badge.svg\" alt=\"Open In Colab\"/></a>"
      ]
    },
    {
      "cell_type": "code",
      "execution_count": null,
      "metadata": {
        "id": "j9xnp1u7sz7e",
        "colab": {
          "base_uri": "https://localhost:8080/"
        },
        "outputId": "4c90d830-d07c-4915-9c62-5d7f9d8e15bd"
      },
      "outputs": [
        {
          "output_type": "stream",
          "name": "stdout",
          "text": [
            "Downloading data from https://storage.googleapis.com/tensorflow/tf-keras-datasets/mnist.npz\n",
            "11490434/11490434 [==============================] - 0s 0us/step\n"
          ]
        }
      ],
      "source": [
        "import keras\n",
        "\n",
        "# import the data\n",
        "from keras.datasets import mnist\n",
        "\n",
        "# read the data\n",
        "(X_train, y_train), (X_test, y_test) = mnist.load_data()"
      ]
    },
    {
      "cell_type": "code",
      "source": [
        "# Dimensions\n",
        "print(X_train.shape)\n",
        "print(X_test.shape)"
      ],
      "metadata": {
        "colab": {
          "base_uri": "https://localhost:8080/"
        },
        "id": "f_sd8G7AtYUi",
        "outputId": "480d2da8-14c8-4d06-ba87-682bfc5d8b98"
      },
      "execution_count": null,
      "outputs": [
        {
          "output_type": "stream",
          "name": "stdout",
          "text": [
            "(60000, 28, 28)\n",
            "(10000, 28, 28)\n"
          ]
        }
      ]
    },
    {
      "cell_type": "code",
      "source": [
        "# To complete\n",
        "import matplotlib.pyplot as plt\n",
        "%matplotlib inline\n",
        "image = X_train[0]\n",
        "fig = plt.figure\n",
        "plt.imshow(image, cmap='gray')\n",
        "plt.show()"
      ],
      "metadata": {
        "colab": {
          "base_uri": "https://localhost:8080/",
          "height": 430
        },
        "id": "UzqIqi-AtZeL",
        "outputId": "2dfb050a-d309-49f5-ff9f-2c46a46e5793"
      },
      "execution_count": null,
      "outputs": [
        {
          "output_type": "display_data",
          "data": {
            "text/plain": [
              "<Figure size 640x480 with 1 Axes>"
            ],
            "image/png": "[encoded data removed]"
          },
          "metadata": {}
        }
      ]
    },
    {
      "cell_type": "code",
      "source": [
        "# Reshape to be [samples][pixels][width][height]\n",
        "X_train = X_train.reshape(X_train.shape[0], 28, 28, 1).astype('float32')\n",
        "X_test = X_test.reshape(X_test.shape[0], 28, 28, 1).astype('float32')"
      ],
      "metadata": {
        "id": "VUHVsFyStifz"
      },
      "execution_count": null,
      "outputs": []
    },
    {
      "cell_type": "code",
      "source": [
        "X_train.shape"
      ],
      "metadata": {
        "colab": {
          "base_uri": "https://localhost:8080/"
        },
        "id": "uiJO1GintnZl",
        "outputId": "9b522e46-264c-494b-8efc-bc01e54a0cb8"
      },
      "execution_count": null,
      "outputs": [
        {
          "output_type": "execute_result",
          "data": {
            "text/plain": [
              "(60000, 28, 28, 1)"
            ]
          },
          "metadata": {},
          "execution_count": 5
        }
      ]
    },
    {
      "cell_type": "code",
      "source": [
        "# Normalize\n",
        "X_train = X_train / 255.0\n",
        "X_test =  X_test / 255.0"
      ],
      "metadata": {
        "id": "6fGeOj8BuLOC"
      },
      "execution_count": null,
      "outputs": []
    },
    {
      "cell_type": "code",
      "source": [
        "from keras.utils import to_categorical\n",
        "\n",
        "y_train = to_categorical(y_train)\n",
        "y_test = to_categorical(y_test)\n",
        "\n",
        "# To complete\n",
        "num_classes = 10 # number of classes"
      ],
      "metadata": {
        "id": "oLnFk04BuOFJ"
      },
      "execution_count": null,
      "outputs": []
    },
    {
      "cell_type": "code",
      "source": [
        "# Performance Evaluation\n",
        "\n",
        "activation_results = {}\n",
        "configuration_results = {}\n",
        "\n",
        "import numpy as np\n",
        "from sklearn.metrics import classification_report\n",
        "import matplotlib.pyplot as plt\n",
        "\n",
        "# Function to evaluate and print classification metrics\n",
        "def evaluate_model(model, X_test, y_test):\n",
        "    y_pred = model.predict(X_test)\n",
        "    y_pred_labels = np.argmax(y_pred, axis=1)\n",
        "    y_true_labels = np.argmax(y_test, axis=1)\n",
        "\n",
        "    print(\"Classification Report:\")\n",
        "    print(classification_report(y_true_labels, y_pred_labels))\n",
        "\n",
        "    return y_pred_labels"
      ],
      "metadata": {
        "id": "CvfX64qzU8hu"
      },
      "execution_count": null,
      "outputs": []
    },
    {
      "cell_type": "code",
      "source": [
        "# CNN network - baseline model\n",
        "from keras.models import Sequential\n",
        "from keras.layers.convolutional import Conv2D\n",
        "from keras.layers.convolutional import MaxPooling2D\n",
        "from keras.layers import Flatten, Dense\n",
        "\n",
        "def small_convnet():\n",
        "\n",
        "    # create base CNN model\n",
        "    model = Sequential()\n",
        "    model.add(Conv2D(32, (3, 3), activation='relu', input_shape=(28, 28, 1)))\n",
        "    model.add(MaxPooling2D((2, 2)))\n",
        "    model.add(Conv2D(64, (3, 3), activation='relu'))\n",
        "    model.add(MaxPooling2D((2, 2)))\n",
        "    model.add(Conv2D(64, (3, 3), activation='relu'))\n",
        "\n",
        "    model.add(Flatten())\n",
        "    model.add(Dense(100, activation='relu'))\n",
        "    model.add(Dense(num_classes, activation='softmax'))\n",
        "\n",
        "    # compile model\n",
        "    model.compile(optimizer='adam', loss='categorical_crossentropy', metrics=['accuracy'])\n",
        "    return model"
      ],
      "metadata": {
        "id": "yRtgFpOGvC2N"
      },
      "execution_count": null,
      "outputs": []
    },
    {
      "cell_type": "code",
      "source": [
        "# To complete\n",
        "model = small_convnet()\n",
        "\n",
        "# fit the model\n",
        "model.fit(X_train, y_train, validation_data=(X_test, y_test), epochs=10, batch_size=200, verbose=2)\n",
        "\n",
        "print(\"Performance Metrics:\")\n",
        "y_pred_labels = evaluate_model(model, X_test, y_test)\n",
        "print(\"----------\")"
      ],
      "metadata": {
        "colab": {
          "base_uri": "https://localhost:8080/"
        },
        "id": "oy3sF-CSvGx1",
        "outputId": "55ca5101-e246-4a00-8d5b-d34571149f01"
      },
      "execution_count": null,
      "outputs": [
        {
          "output_type": "stream",
          "name": "stdout",
          "text": [
            "Epoch 1/10\n",
            "300/300 - 75s - loss: 0.2930 - accuracy: 0.9150 - val_loss: 0.0654 - val_accuracy: 0.9799 - 75s/epoch - 250ms/step\n",
            "Epoch 2/10\n",
            "300/300 - 52s - loss: 0.0649 - accuracy: 0.9801 - val_loss: 0.0455 - val_accuracy: 0.9855 - 52s/epoch - 175ms/step\n",
            "Epoch 3/10\n",
            "300/300 - 52s - loss: 0.0431 - accuracy: 0.9865 - val_loss: 0.0397 - val_accuracy: 0.9878 - 52s/epoch - 172ms/step\n",
            "Epoch 4/10\n",
            "300/300 - 51s - loss: 0.0358 - accuracy: 0.9885 - val_loss: 0.0326 - val_accuracy: 0.9901 - 51s/epoch - 172ms/step\n",
            "Epoch 5/10\n",
            "300/300 - 52s - loss: 0.0270 - accuracy: 0.9918 - val_loss: 0.0264 - val_accuracy: 0.9912 - 52s/epoch - 174ms/step\n",
            "Epoch 6/10\n",
            "300/300 - 51s - loss: 0.0225 - accuracy: 0.9930 - val_loss: 0.0301 - val_accuracy: 0.9902 - 51s/epoch - 171ms/step\n",
            "Epoch 7/10\n",
            "300/300 - 51s - loss: 0.0201 - accuracy: 0.9937 - val_loss: 0.0272 - val_accuracy: 0.9922 - 51s/epoch - 171ms/step\n",
            "Epoch 8/10\n",
            "300/300 - 51s - loss: 0.0165 - accuracy: 0.9944 - val_loss: 0.0268 - val_accuracy: 0.9911 - 51s/epoch - 169ms/step\n",
            "Epoch 9/10\n",
            "300/300 - 51s - loss: 0.0143 - accuracy: 0.9955 - val_loss: 0.0247 - val_accuracy: 0.9920 - 51s/epoch - 170ms/step\n",
            "Epoch 10/10\n",
            "300/300 - 52s - loss: 0.0125 - accuracy: 0.9959 - val_loss: 0.0253 - val_accuracy: 0.9917 - 52s/epoch - 172ms/step\n",
            "Performance Metrics:\n",
            "313/313 [==============================] - 3s 8ms/step\n",
            "Classification Report:\n",
            "              precision    recall  f1-score   support\n",
            "\n",
            "           0       0.99      1.00      0.99       980\n",
            "           1       0.99      1.00      1.00      1135\n",
            "           2       0.99      0.98      0.99      1032\n",
            "           3       0.99      0.99      0.99      1010\n",
            "           4       0.99      1.00      0.99       982\n",
            "           5       0.99      0.99      0.99       892\n",
            "           6       1.00      0.99      0.99       958\n",
            "           7       0.99      0.99      0.99      1028\n",
            "           8       0.99      0.99      0.99       974\n",
            "           9       0.99      0.99      0.99      1009\n",
            "\n",
            "    accuracy                           0.99     10000\n",
            "   macro avg       0.99      0.99      0.99     10000\n",
            "weighted avg       0.99      0.99      0.99     10000\n",
            "\n",
            "----------\n"
          ]
        }
      ]
    },
    {
      "cell_type": "code",
      "source": [
        "model.summary()"
      ],
      "metadata": {
        "id": "QrVbHZZ5vIYw",
        "colab": {
          "base_uri": "https://localhost:8080/"
        },
        "outputId": "03108102-30d8-4746-973d-11dec23a4f70"
      },
      "execution_count": null,
      "outputs": [
        {
          "output_type": "stream",
          "name": "stdout",
          "text": [
            "Model: \"sequential\"\n",
            "_________________________________________________________________\n",
            " Layer (type)                Output Shape              Param #   \n",
            "=================================================================\n",
            " conv2d (Conv2D)             (None, 26, 26, 32)        320       \n",
            "                                                                 \n",
            " max_pooling2d (MaxPooling2D  (None, 13, 13, 32)       0         \n",
            " )                                                               \n",
            "                                                                 \n",
            " conv2d_1 (Conv2D)           (None, 11, 11, 64)        18496     \n",
            "                                                                 \n",
            " max_pooling2d_1 (MaxPooling  (None, 5, 5, 64)         0         \n",
            " 2D)                                                             \n",
            "                                                                 \n",
            " conv2d_2 (Conv2D)           (None, 3, 3, 64)          36928     \n",
            "                                                                 \n",
            " flatten (Flatten)           (None, 576)               0         \n",
            "                                                                 \n",
            " dense (Dense)               (None, 100)               57700     \n",
            "                                                                 \n",
            " dense_1 (Dense)             (None, 10)                1010      \n",
            "                                                                 \n",
            "=================================================================\n",
            "Total params: 114,454\n",
            "Trainable params: 114,454\n",
            "Non-trainable params: 0\n",
            "_________________________________________________________________\n"
          ]
        }
      ]
    },
    {
      "cell_type": "code",
      "source": [
        "scores = model.evaluate(X_test, y_test, verbose=0)\n",
        "print(\"Accuracy: {} \\nError: {}\".format(scores[1], 100-scores[1]*100))"
      ],
      "metadata": {
        "id": "L7wg6xSevbaE",
        "colab": {
          "base_uri": "https://localhost:8080/"
        },
        "outputId": "07348ceb-de94-4087-edc5-dd90aa6b6735"
      },
      "execution_count": null,
      "outputs": [
        {
          "output_type": "stream",
          "name": "stdout",
          "text": [
            "Accuracy: 0.9916999936103821 \n",
            "Error: 0.830000638961792\n"
          ]
        }
      ]
    },
    {
      "cell_type": "code",
      "source": [
        "y_true_labels = np.argmax(y_test, axis=1)"
      ],
      "metadata": {
        "id": "RlF6Y6EqE-g_"
      },
      "execution_count": null,
      "outputs": []
    },
    {
      "cell_type": "code",
      "source": [
        "# Experimenting with different activation functions\n",
        "\n",
        "# Function to build the CNN architecture\n",
        "def build_cnn_actv(activation_func):\n",
        "    model = Sequential()\n",
        "\n",
        "    # Add Convolutional and Pooling layers with the specified activation function\n",
        "    model.add(Conv2D(32, (3, 3), activation=activation_func, input_shape=(28, 28, 1)))\n",
        "    model.add(MaxPooling2D((2, 2)))\n",
        "    model.add(Conv2D(64, (3, 3), activation=activation_func))\n",
        "    model.add(MaxPooling2D((2, 2)))\n",
        "    model.add(Conv2D(64, (3, 3), activation=activation_func))\n",
        "\n",
        "    # Flatten the output for the fully connected layers\n",
        "    model.add(Flatten())\n",
        "\n",
        "    # Add Fully Connected layers\n",
        "    model.add(Dense(64, activation=activation_func))\n",
        "    model.add(Dense(10, activation='softmax'))  # 10 classes for digits 0-9\n",
        "\n",
        "    return model\n",
        "\n",
        "# List of activation functions to experiment with\n",
        "activation_functions = ['LeakyReLU', 'sigmoid', 'tanh']\n",
        "\n",
        "# Train and evaluate models with different activation functions\n",
        "for activation_func in activation_functions:\n",
        "    print(f\"Training model with {activation_func} activation function\")\n",
        "    model = build_cnn_actv(activation_func)\n",
        "\n",
        "    # Compile the model\n",
        "    model.compile(optimizer='adam', loss='categorical_crossentropy', metrics=['accuracy'])\n",
        "\n",
        "    # Train the model\n",
        "    history = model.fit(X_train, y_train, validation_data=(X_test, y_test), epochs=10, batch_size=200, verbose=2)\n",
        "\n",
        "    # Evaluate the model on the test data\n",
        "    test_loss, test_acc = model.evaluate(X_test, y_test)\n",
        "    print(f\"Test accuracy with {activation_func} activation function:\", test_acc)\n",
        "    print(\"----------\")\n",
        "\n",
        "    print(\"Performance Metrics:\")\n",
        "    y_pred_labels = evaluate_model(model, X_test, y_test)\n",
        "    print(\"----------\")\n",
        "\n",
        "    activation_results[activation_func] = classification_report(y_true_labels, y_pred_labels, output_dict=True)"
      ],
      "metadata": {
        "colab": {
          "base_uri": "https://localhost:8080/"
        },
        "id": "Wex6vQ_AHKV1",
        "outputId": "29689b8a-5d57-40e9-cc38-5d98a01a4092"
      },
      "execution_count": null,
      "outputs": [
        {
          "output_type": "stream",
          "name": "stdout",
          "text": [
            "Training model with LeakyReLU activation function\n",
            "Epoch 1/10\n",
            "300/300 - 55s - loss: 0.2583 - accuracy: 0.9221 - val_loss: 0.0661 - val_accuracy: 0.9796 - 55s/epoch - 185ms/step\n",
            "Epoch 2/10\n",
            "300/300 - 55s - loss: 0.0654 - accuracy: 0.9795 - val_loss: 0.0429 - val_accuracy: 0.9860 - 55s/epoch - 183ms/step\n",
            "Epoch 3/10\n",
            "300/300 - 55s - loss: 0.0478 - accuracy: 0.9850 - val_loss: 0.0339 - val_accuracy: 0.9893 - 55s/epoch - 182ms/step\n",
            "Epoch 4/10\n",
            "300/300 - 54s - loss: 0.0386 - accuracy: 0.9879 - val_loss: 0.0345 - val_accuracy: 0.9888 - 54s/epoch - 179ms/step\n",
            "Epoch 5/10\n",
            "300/300 - 54s - loss: 0.0309 - accuracy: 0.9899 - val_loss: 0.0306 - val_accuracy: 0.9903 - 54s/epoch - 179ms/step\n",
            "Epoch 6/10\n",
            "300/300 - 53s - loss: 0.0261 - accuracy: 0.9915 - val_loss: 0.0326 - val_accuracy: 0.9904 - 53s/epoch - 177ms/step\n",
            "Epoch 7/10\n",
            "300/300 - 53s - loss: 0.0225 - accuracy: 0.9927 - val_loss: 0.0303 - val_accuracy: 0.9896 - 53s/epoch - 177ms/step\n",
            "Epoch 8/10\n",
            "300/300 - 54s - loss: 0.0187 - accuracy: 0.9941 - val_loss: 0.0313 - val_accuracy: 0.9906 - 54s/epoch - 181ms/step\n",
            "Epoch 9/10\n",
            "300/300 - 55s - loss: 0.0172 - accuracy: 0.9945 - val_loss: 0.0265 - val_accuracy: 0.9922 - 55s/epoch - 183ms/step\n",
            "Epoch 10/10\n",
            "300/300 - 53s - loss: 0.0140 - accuracy: 0.9956 - val_loss: 0.0268 - val_accuracy: 0.9922 - 53s/epoch - 177ms/step\n",
            "313/313 [==============================] - 3s 10ms/step - loss: 0.0268 - accuracy: 0.9922\n",
            "Test accuracy with LeakyReLU activation function: 0.9922000169754028\n",
            "----------\n",
            "Performance Metrics:\n",
            "313/313 [==============================] - 4s 14ms/step\n",
            "Classification Report:\n",
            "              precision    recall  f1-score   support\n",
            "\n",
            "           0       0.99      1.00      0.99       980\n",
            "           1       0.99      1.00      1.00      1135\n",
            "           2       1.00      0.98      0.99      1032\n",
            "           3       0.99      1.00      0.99      1010\n",
            "           4       0.99      1.00      0.99       982\n",
            "           5       0.99      0.99      0.99       892\n",
            "           6       1.00      0.99      0.99       958\n",
            "           7       0.98      0.99      0.99      1028\n",
            "           8       0.99      0.99      0.99       974\n",
            "           9       1.00      0.98      0.99      1009\n",
            "\n",
            "    accuracy                           0.99     10000\n",
            "   macro avg       0.99      0.99      0.99     10000\n",
            "weighted avg       0.99      0.99      0.99     10000\n",
            "\n",
            "----------\n",
            "Training model with sigmoid activation function\n",
            "Epoch 1/10\n",
            "300/300 - 52s - loss: 1.5362 - accuracy: 0.4837 - val_loss: 0.4195 - val_accuracy: 0.8951 - 52s/epoch - 175ms/step\n",
            "Epoch 2/10\n",
            "300/300 - 53s - loss: 0.2829 - accuracy: 0.9255 - val_loss: 0.1810 - val_accuracy: 0.9513 - 53s/epoch - 178ms/step\n",
            "Epoch 3/10\n",
            "300/300 - 51s - loss: 0.1534 - accuracy: 0.9582 - val_loss: 0.1126 - val_accuracy: 0.9683 - 51s/epoch - 170ms/step\n",
            "Epoch 4/10\n",
            "300/300 - 52s - loss: 0.1093 - accuracy: 0.9694 - val_loss: 0.0849 - val_accuracy: 0.9749 - 52s/epoch - 173ms/step\n",
            "Epoch 5/10\n",
            "300/300 - 52s - loss: 0.0845 - accuracy: 0.9765 - val_loss: 0.0690 - val_accuracy: 0.9794 - 52s/epoch - 172ms/step\n",
            "Epoch 6/10\n",
            "300/300 - 51s - loss: 0.0710 - accuracy: 0.9795 - val_loss: 0.0612 - val_accuracy: 0.9815 - 51s/epoch - 171ms/step\n",
            "Epoch 7/10\n",
            "300/300 - 53s - loss: 0.0616 - accuracy: 0.9823 - val_loss: 0.0536 - val_accuracy: 0.9826 - 53s/epoch - 177ms/step\n",
            "Epoch 8/10\n",
            "300/300 - 52s - loss: 0.0545 - accuracy: 0.9841 - val_loss: 0.0512 - val_accuracy: 0.9835 - 52s/epoch - 173ms/step\n",
            "Epoch 9/10\n",
            "300/300 - 51s - loss: 0.0490 - accuracy: 0.9857 - val_loss: 0.0457 - val_accuracy: 0.9856 - 51s/epoch - 171ms/step\n",
            "Epoch 10/10\n",
            "300/300 - 51s - loss: 0.0445 - accuracy: 0.9869 - val_loss: 0.0431 - val_accuracy: 0.9862 - 51s/epoch - 171ms/step\n",
            "313/313 [==============================] - 4s 11ms/step - loss: 0.0431 - accuracy: 0.9862\n",
            "Test accuracy with sigmoid activation function: 0.9861999750137329\n",
            "----------\n",
            "Performance Metrics:\n",
            "313/313 [==============================] - 3s 9ms/step\n",
            "Classification Report:\n",
            "              precision    recall  f1-score   support\n",
            "\n",
            "           0       0.99      1.00      0.99       980\n",
            "           1       0.99      0.99      0.99      1135\n",
            "           2       0.98      1.00      0.99      1032\n",
            "           3       0.98      0.99      0.99      1010\n",
            "           4       0.99      0.98      0.99       982\n",
            "           5       0.99      0.98      0.98       892\n",
            "           6       1.00      0.98      0.99       958\n",
            "           7       0.99      0.97      0.98      1028\n",
            "           8       0.98      0.98      0.98       974\n",
            "           9       0.97      0.98      0.98      1009\n",
            "\n",
            "    accuracy                           0.99     10000\n",
            "   macro avg       0.99      0.99      0.99     10000\n",
            "weighted avg       0.99      0.99      0.99     10000\n",
            "\n",
            "----------\n",
            "Training model with tanh activation function\n",
            "Epoch 1/10\n",
            "300/300 - 52s - loss: 0.2608 - accuracy: 0.9259 - val_loss: 0.0743 - val_accuracy: 0.9780 - 52s/epoch - 173ms/step\n",
            "Epoch 2/10\n",
            "300/300 - 51s - loss: 0.0653 - accuracy: 0.9812 - val_loss: 0.0445 - val_accuracy: 0.9875 - 51s/epoch - 172ms/step\n",
            "Epoch 3/10\n",
            "300/300 - 52s - loss: 0.0436 - accuracy: 0.9874 - val_loss: 0.0375 - val_accuracy: 0.9879 - 52s/epoch - 175ms/step\n",
            "Epoch 4/10\n",
            "300/300 - 53s - loss: 0.0345 - accuracy: 0.9903 - val_loss: 0.0324 - val_accuracy: 0.9898 - 53s/epoch - 176ms/step\n",
            "Epoch 5/10\n",
            "300/300 - 55s - loss: 0.0285 - accuracy: 0.9914 - val_loss: 0.0310 - val_accuracy: 0.9904 - 55s/epoch - 184ms/step\n",
            "Epoch 6/10\n",
            "300/300 - 52s - loss: 0.0216 - accuracy: 0.9941 - val_loss: 0.0250 - val_accuracy: 0.9916 - 52s/epoch - 174ms/step\n",
            "Epoch 7/10\n",
            "300/300 - 52s - loss: 0.0165 - accuracy: 0.9956 - val_loss: 0.0270 - val_accuracy: 0.9905 - 52s/epoch - 174ms/step\n",
            "Epoch 8/10\n",
            "300/300 - 53s - loss: 0.0142 - accuracy: 0.9961 - val_loss: 0.0299 - val_accuracy: 0.9905 - 53s/epoch - 176ms/step\n",
            "Epoch 9/10\n",
            "300/300 - 52s - loss: 0.0103 - accuracy: 0.9973 - val_loss: 0.0292 - val_accuracy: 0.9914 - 52s/epoch - 174ms/step\n",
            "Epoch 10/10\n",
            "300/300 - 53s - loss: 0.0101 - accuracy: 0.9973 - val_loss: 0.0298 - val_accuracy: 0.9909 - 53s/epoch - 175ms/step\n",
            "313/313 [==============================] - 4s 12ms/step - loss: 0.0298 - accuracy: 0.9909\n",
            "Test accuracy with tanh activation function: 0.9908999800682068\n",
            "----------\n",
            "Performance Metrics:\n",
            "313/313 [==============================] - 3s 8ms/step\n",
            "Classification Report:\n",
            "              precision    recall  f1-score   support\n",
            "\n",
            "           0       0.98      1.00      0.99       980\n",
            "           1       0.99      1.00      1.00      1135\n",
            "           2       0.99      0.99      0.99      1032\n",
            "           3       1.00      0.99      0.99      1010\n",
            "           4       0.99      0.99      0.99       982\n",
            "           5       0.99      0.99      0.99       892\n",
            "           6       0.99      0.99      0.99       958\n",
            "           7       0.99      0.98      0.99      1028\n",
            "           8       0.99      0.99      0.99       974\n",
            "           9       0.99      0.99      0.99      1009\n",
            "\n",
            "    accuracy                           0.99     10000\n",
            "   macro avg       0.99      0.99      0.99     10000\n",
            "weighted avg       0.99      0.99      0.99     10000\n",
            "\n",
            "----------\n"
          ]
        }
      ]
    },
    {
      "cell_type": "code",
      "source": [
        "# Experimenting with different convolutional layers\n",
        "\n",
        "# Function to build the CNN architecture with varying convolutional layer configurations\n",
        "def build_cnn_conv(filters, kernel_size, strides):\n",
        "    model = Sequential()\n",
        "\n",
        "    # Add Convolutional and Pooling layers with varying configurations\n",
        "    model.add(Conv2D(filters, kernel_size, activation='relu', input_shape=(28, 28, 1), strides=strides))\n",
        "    model.add(MaxPooling2D((2, 2)))\n",
        "    model.add(Conv2D(filters * 2, kernel_size, activation='relu', strides=strides))\n",
        "    model.add(MaxPooling2D((2, 2)))\n",
        "    model.add(Conv2D(filters * 2, kernel_size, activation='relu', strides=strides))\n",
        "\n",
        "    # Flatten the output for the fully connected layers\n",
        "    model.add(Flatten())\n",
        "\n",
        "    # Add Fully Connected layers\n",
        "    model.add(Dense(64, activation='relu'))\n",
        "    model.add(Dense(10, activation='softmax'))  # 10 classes for digits 0-9\n",
        "\n",
        "    return model\n",
        "\n",
        "# List of convolutional layer configurations to experiment with\n",
        "configurations = [(32, (1, 1), (1, 1)),  # Filters, Kernel Size, Strides\n",
        "                  (64, (1, 1), (1, 1)),\n",
        "                  (32, (3, 3), (1, 1)),\n",
        "                  (64, (3, 3), (1, 1))]\n",
        "\n",
        "# Train and evaluate models with different convolutional layer configurations\n",
        "for config in configurations:\n",
        "    filters, kernel_size, strides = config\n",
        "    print(f\"Training model with {filters} filters, {kernel_size} kernel size, and {strides} strides\")\n",
        "\n",
        "    model = build_cnn_conv(filters, kernel_size, strides)\n",
        "\n",
        "    # Compile the model\n",
        "    model.compile(optimizer='adam', loss='categorical_crossentropy', metrics=['accuracy'])\n",
        "\n",
        "    # Train the model\n",
        "    history = model.fit(X_train, y_train, validation_data=(X_test, y_test), epochs=10, batch_size=200, verbose=2)\n",
        "\n",
        "    # Evaluate the model on the test data\n",
        "    test_loss, test_acc = model.evaluate(X_test, y_test)\n",
        "    print(f\"Test accuracy with configuration {config}:\", test_acc)\n",
        "    print(\"----------\")\n",
        "\n",
        "    print(\"Performance Metrics:\")\n",
        "    y_pred_labels = evaluate_model(model, X_test, y_test)\n",
        "    print(\"----------\")\n",
        "\n",
        "    configuration_results[config] = classification_report(y_true_labels, y_pred_labels, output_dict=True)"
      ],
      "metadata": {
        "id": "25dWe4z1Kugt",
        "colab": {
          "base_uri": "https://localhost:8080/"
        },
        "outputId": "33787a14-9dea-457a-8d91-1eca05c5cf84"
      },
      "execution_count": null,
      "outputs": [
        {
          "output_type": "stream",
          "name": "stdout",
          "text": [
            "Training model with 32 filters, (1, 1) kernel size, and (1, 1) strides\n",
            "Epoch 1/10\n",
            "300/300 - 32s - loss: 0.6509 - accuracy: 0.7914 - val_loss: 0.4019 - val_accuracy: 0.8704 - 32s/epoch - 107ms/step\n",
            "Epoch 2/10\n",
            "300/300 - 29s - loss: 0.3675 - accuracy: 0.8813 - val_loss: 0.3307 - val_accuracy: 0.8920 - 29s/epoch - 97ms/step\n",
            "Epoch 3/10\n",
            "300/300 - 30s - loss: 0.3065 - accuracy: 0.9011 - val_loss: 0.2883 - val_accuracy: 0.9079 - 30s/epoch - 99ms/step\n",
            "Epoch 4/10\n",
            "300/300 - 32s - loss: 0.2719 - accuracy: 0.9121 - val_loss: 0.2703 - val_accuracy: 0.9142 - 32s/epoch - 107ms/step\n",
            "Epoch 5/10\n",
            "300/300 - 29s - loss: 0.2478 - accuracy: 0.9215 - val_loss: 0.2421 - val_accuracy: 0.9258 - 29s/epoch - 98ms/step\n",
            "Epoch 6/10\n",
            "300/300 - 31s - loss: 0.2327 - accuracy: 0.9252 - val_loss: 0.2412 - val_accuracy: 0.9243 - 31s/epoch - 104ms/step\n",
            "Epoch 7/10\n",
            "300/300 - 29s - loss: 0.2171 - accuracy: 0.9296 - val_loss: 0.2189 - val_accuracy: 0.9305 - 29s/epoch - 97ms/step\n",
            "Epoch 8/10\n",
            "300/300 - 30s - loss: 0.2089 - accuracy: 0.9312 - val_loss: 0.1996 - val_accuracy: 0.9355 - 30s/epoch - 99ms/step\n",
            "Epoch 9/10\n",
            "300/300 - 31s - loss: 0.1986 - accuracy: 0.9359 - val_loss: 0.2046 - val_accuracy: 0.9368 - 31s/epoch - 102ms/step\n",
            "Epoch 10/10\n",
            "300/300 - 29s - loss: 0.1928 - accuracy: 0.9383 - val_loss: 0.1995 - val_accuracy: 0.9374 - 29s/epoch - 98ms/step\n",
            "313/313 [==============================] - 2s 5ms/step - loss: 0.1995 - accuracy: 0.9374\n",
            "Test accuracy with configuration (32, (1, 1), (1, 1)): 0.9373999834060669\n",
            "----------\n",
            "Performance Metrics:\n",
            "313/313 [==============================] - 1s 4ms/step\n",
            "Classification Report:\n",
            "              precision    recall  f1-score   support\n",
            "\n",
            "           0       0.97      0.97      0.97       980\n",
            "           1       0.98      0.98      0.98      1135\n",
            "           2       0.96      0.95      0.95      1032\n",
            "           3       0.94      0.90      0.92      1010\n",
            "           4       0.90      0.94      0.92       982\n",
            "           5       0.93      0.92      0.93       892\n",
            "           6       0.95      0.97      0.96       958\n",
            "           7       0.94      0.94      0.94      1028\n",
            "           8       0.87      0.94      0.90       974\n",
            "           9       0.93      0.86      0.89      1009\n",
            "\n",
            "    accuracy                           0.94     10000\n",
            "   macro avg       0.94      0.94      0.94     10000\n",
            "weighted avg       0.94      0.94      0.94     10000\n",
            "\n",
            "----------\n",
            "Training model with 64 filters, (1, 1) kernel size, and (1, 1) strides\n",
            "Epoch 1/10\n",
            "300/300 - 69s - loss: 0.5677 - accuracy: 0.8235 - val_loss: 0.3628 - val_accuracy: 0.8823 - 69s/epoch - 228ms/step\n",
            "Epoch 2/10\n",
            "300/300 - 66s - loss: 0.3301 - accuracy: 0.8954 - val_loss: 0.2777 - val_accuracy: 0.9103 - 66s/epoch - 219ms/step\n",
            "Epoch 3/10\n",
            "300/300 - 65s - loss: 0.2697 - accuracy: 0.9132 - val_loss: 0.2508 - val_accuracy: 0.9144 - 65s/epoch - 215ms/step\n",
            "Epoch 4/10\n",
            "300/300 - 64s - loss: 0.2387 - accuracy: 0.9230 - val_loss: 0.2321 - val_accuracy: 0.9244 - 64s/epoch - 214ms/step\n",
            "Epoch 5/10\n",
            "300/300 - 66s - loss: 0.2173 - accuracy: 0.9295 - val_loss: 0.2011 - val_accuracy: 0.9368 - 66s/epoch - 219ms/step\n",
            "Epoch 6/10\n",
            "300/300 - 64s - loss: 0.1849 - accuracy: 0.9404 - val_loss: 0.1737 - val_accuracy: 0.9454 - 64s/epoch - 214ms/step\n",
            "Epoch 7/10\n",
            "300/300 - 65s - loss: 0.1652 - accuracy: 0.9471 - val_loss: 0.1609 - val_accuracy: 0.9491 - 65s/epoch - 215ms/step\n",
            "Epoch 8/10\n",
            "300/300 - 64s - loss: 0.1555 - accuracy: 0.9492 - val_loss: 0.1694 - val_accuracy: 0.9452 - 64s/epoch - 214ms/step\n",
            "Epoch 9/10\n",
            "300/300 - 68s - loss: 0.1472 - accuracy: 0.9524 - val_loss: 0.1489 - val_accuracy: 0.9514 - 68s/epoch - 226ms/step\n",
            "Epoch 10/10\n",
            "300/300 - 64s - loss: 0.1386 - accuracy: 0.9544 - val_loss: 0.1488 - val_accuracy: 0.9538 - 64s/epoch - 215ms/step\n",
            "313/313 [==============================] - 4s 11ms/step - loss: 0.1488 - accuracy: 0.9538\n",
            "Test accuracy with configuration (64, (1, 1), (1, 1)): 0.9538000226020813\n",
            "----------\n",
            "Performance Metrics:\n",
            "313/313 [==============================] - 3s 9ms/step\n",
            "Classification Report:\n",
            "              precision    recall  f1-score   support\n",
            "\n",
            "           0       0.97      0.98      0.98       980\n",
            "           1       0.98      0.99      0.99      1135\n",
            "           2       0.94      0.97      0.96      1032\n",
            "           3       0.96      0.92      0.94      1010\n",
            "           4       0.95      0.95      0.95       982\n",
            "           5       0.93      0.95      0.94       892\n",
            "           6       0.96      0.97      0.97       958\n",
            "           7       0.96      0.95      0.95      1028\n",
            "           8       0.94      0.94      0.94       974\n",
            "           9       0.93      0.92      0.93      1009\n",
            "\n",
            "    accuracy                           0.95     10000\n",
            "   macro avg       0.95      0.95      0.95     10000\n",
            "weighted avg       0.95      0.95      0.95     10000\n",
            "\n",
            "----------\n",
            "Training model with 32 filters, (3, 3) kernel size, and (1, 1) strides\n",
            "Epoch 1/10\n",
            "300/300 - 53s - loss: 0.3013 - accuracy: 0.9089 - val_loss: 0.0816 - val_accuracy: 0.9743 - 53s/epoch - 177ms/step\n",
            "Epoch 2/10\n",
            "300/300 - 52s - loss: 0.0724 - accuracy: 0.9782 - val_loss: 0.0509 - val_accuracy: 0.9840 - 52s/epoch - 174ms/step\n",
            "Epoch 3/10\n",
            "300/300 - 51s - loss: 0.0505 - accuracy: 0.9839 - val_loss: 0.0390 - val_accuracy: 0.9881 - 51s/epoch - 171ms/step\n",
            "Epoch 4/10\n",
            "300/300 - 50s - loss: 0.0382 - accuracy: 0.9880 - val_loss: 0.0327 - val_accuracy: 0.9890 - 50s/epoch - 167ms/step\n",
            "Epoch 5/10\n",
            "300/300 - 52s - loss: 0.0331 - accuracy: 0.9894 - val_loss: 0.0305 - val_accuracy: 0.9894 - 52s/epoch - 175ms/step\n",
            "Epoch 6/10\n",
            "300/300 - 51s - loss: 0.0259 - accuracy: 0.9916 - val_loss: 0.0334 - val_accuracy: 0.9894 - 51s/epoch - 170ms/step\n",
            "Epoch 7/10\n",
            "300/300 - 53s - loss: 0.0231 - accuracy: 0.9929 - val_loss: 0.0326 - val_accuracy: 0.9894 - 53s/epoch - 175ms/step\n",
            "Epoch 8/10\n",
            "300/300 - 50s - loss: 0.0194 - accuracy: 0.9937 - val_loss: 0.0271 - val_accuracy: 0.9922 - 50s/epoch - 167ms/step\n",
            "Epoch 9/10\n",
            "300/300 - 51s - loss: 0.0166 - accuracy: 0.9947 - val_loss: 0.0251 - val_accuracy: 0.9923 - 51s/epoch - 169ms/step\n",
            "Epoch 10/10\n",
            "300/300 - 51s - loss: 0.0139 - accuracy: 0.9956 - val_loss: 0.0255 - val_accuracy: 0.9925 - 51s/epoch - 169ms/step\n",
            "313/313 [==============================] - 3s 8ms/step - loss: 0.0255 - accuracy: 0.9925\n",
            "Test accuracy with configuration (32, (3, 3), (1, 1)): 0.9925000071525574\n",
            "----------\n",
            "Performance Metrics:\n",
            "313/313 [==============================] - 3s 9ms/step\n",
            "Classification Report:\n",
            "              precision    recall  f1-score   support\n",
            "\n",
            "           0       0.99      1.00      0.99       980\n",
            "           1       0.99      1.00      1.00      1135\n",
            "           2       1.00      1.00      1.00      1032\n",
            "           3       0.99      0.99      0.99      1010\n",
            "           4       0.99      1.00      0.99       982\n",
            "           5       0.98      0.99      0.99       892\n",
            "           6       1.00      0.98      0.99       958\n",
            "           7       0.99      1.00      0.99      1028\n",
            "           8       0.99      0.99      0.99       974\n",
            "           9       0.99      0.98      0.99      1009\n",
            "\n",
            "    accuracy                           0.99     10000\n",
            "   macro avg       0.99      0.99      0.99     10000\n",
            "weighted avg       0.99      0.99      0.99     10000\n",
            "\n",
            "----------\n",
            "Training model with 64 filters, (3, 3) kernel size, and (1, 1) strides\n",
            "Epoch 1/10\n",
            "300/300 - 154s - loss: 0.2291 - accuracy: 0.9310 - val_loss: 0.0476 - val_accuracy: 0.9849 - 154s/epoch - 514ms/step\n",
            "Epoch 2/10\n",
            "300/300 - 155s - loss: 0.0508 - accuracy: 0.9844 - val_loss: 0.0341 - val_accuracy: 0.9896 - 155s/epoch - 518ms/step\n",
            "Epoch 3/10\n",
            "300/300 - 151s - loss: 0.0325 - accuracy: 0.9901 - val_loss: 0.0324 - val_accuracy: 0.9893 - 151s/epoch - 503ms/step\n",
            "Epoch 4/10\n",
            "300/300 - 156s - loss: 0.0255 - accuracy: 0.9922 - val_loss: 0.0308 - val_accuracy: 0.9900 - 156s/epoch - 521ms/step\n",
            "Epoch 5/10\n",
            "300/300 - 155s - loss: 0.0196 - accuracy: 0.9938 - val_loss: 0.0327 - val_accuracy: 0.9893 - 155s/epoch - 516ms/step\n",
            "Epoch 6/10\n",
            "300/300 - 156s - loss: 0.0170 - accuracy: 0.9942 - val_loss: 0.0240 - val_accuracy: 0.9922 - 156s/epoch - 519ms/step\n",
            "Epoch 7/10\n",
            "300/300 - 151s - loss: 0.0125 - accuracy: 0.9963 - val_loss: 0.0312 - val_accuracy: 0.9907 - 151s/epoch - 503ms/step\n",
            "Epoch 8/10\n",
            "300/300 - 152s - loss: 0.0102 - accuracy: 0.9965 - val_loss: 0.0299 - val_accuracy: 0.9910 - 152s/epoch - 506ms/step\n",
            "Epoch 9/10\n",
            "300/300 - 151s - loss: 0.0089 - accuracy: 0.9972 - val_loss: 0.0279 - val_accuracy: 0.9920 - 151s/epoch - 505ms/step\n",
            "Epoch 10/10\n",
            "300/300 - 149s - loss: 0.0074 - accuracy: 0.9977 - val_loss: 0.0318 - val_accuracy: 0.9917 - 149s/epoch - 497ms/step\n",
            "313/313 [==============================] - 6s 19ms/step - loss: 0.0318 - accuracy: 0.9917\n",
            "Test accuracy with configuration (64, (3, 3), (1, 1)): 0.9916999936103821\n",
            "----------\n",
            "Performance Metrics:\n",
            "313/313 [==============================] - 7s 21ms/step\n",
            "Classification Report:\n",
            "              precision    recall  f1-score   support\n",
            "\n",
            "           0       0.99      1.00      1.00       980\n",
            "           1       0.99      1.00      1.00      1135\n",
            "           2       1.00      0.99      0.99      1032\n",
            "           3       0.99      0.99      0.99      1010\n",
            "           4       1.00      0.98      0.99       982\n",
            "           5       0.98      0.99      0.99       892\n",
            "           6       1.00      0.98      0.99       958\n",
            "           7       0.99      0.99      0.99      1028\n",
            "           8       0.99      1.00      0.99       974\n",
            "           9       0.99      0.99      0.99      1009\n",
            "\n",
            "    accuracy                           0.99     10000\n",
            "   macro avg       0.99      0.99      0.99     10000\n",
            "weighted avg       0.99      0.99      0.99     10000\n",
            "\n",
            "----------\n"
          ]
        }
      ]
    },
    {
      "cell_type": "code",
      "source": [
        "import numpy as np\n",
        "import pandas as pd\n",
        "import matplotlib.pyplot as plt\n",
        "from sklearn.metrics import accuracy_score, precision_score, recall_score, f1_score\n",
        "\n",
        "# Define the activation functions and configurations\n",
        "activation_functions = ['relu', 'LeakyReLU', 'sigmoid', 'tanh']\n",
        "configurations = [(32, (1, 1), (1, 1)),\n",
        "                  (64, (1, 1), (1, 1)),\n",
        "                  (32, (3, 3), (1, 1)),\n",
        "                  (64, (3, 3), (1, 1))]\n",
        "\n",
        "# Create DataFrames to store results\n",
        "activation_results_df = pd.DataFrame(index=activation_functions, columns=['accuracy', 'precision', 'recall', 'f1-score'])\n",
        "configuration_results_df = pd.DataFrame(index=configurations, columns=['accuracy', 'precision', 'recall', 'f1-score'])\n",
        "\n",
        "# Evaluate models with different activation functions\n",
        "for activation_func in activation_functions:\n",
        "    print(f\"Evaluating model with {activation_func} activation function\")\n",
        "    model = build_cnn_actv(activation_func)\n",
        "\n",
        "    y_pred_labels = evaluate_model(model, X_test, y_test)\n",
        "\n",
        "    accuracy = accuracy_score(y_true_labels, y_pred_labels)\n",
        "    precision = precision_score(y_true_labels, y_pred_labels, average='macro')\n",
        "    recall = recall_score(y_true_labels, y_pred_labels, average='macro')\n",
        "    f1 = f1_score(y_true_labels, y_pred_labels, average='macro')\n",
        "\n",
        "    activation_results_df.loc[activation_func] = [accuracy, precision, recall, f1]\n",
        "    print(\"----------\")\n",
        "\n",
        "# Evaluate models with different convolutional layer configurations\n",
        "for config in configurations:\n",
        "    filters, kernel_size, strides = config\n",
        "    config_str = f\"{filters}-{kernel_size[0]}x{kernel_size[1]}-{strides[0]}x{strides[1]}\"\n",
        "    print(f\"Evaluating model with {filters} filters, {kernel_size} kernel size, and {strides} strides\")\n",
        "\n",
        "    model = build_cnn_conv(filters, kernel_size, strides)\n",
        "\n",
        "    y_pred_labels = evaluate_model(model, X_test, y_test)\n",
        "\n",
        "    accuracy = accuracy_score(y_true_labels, y_pred_labels)\n",
        "    precision = precision_score(y_true_labels, y_pred_labels, average='macro')\n",
        "    recall = recall_score(y_true_labels, y_pred_labels, average='macro')\n",
        "    f1 = f1_score(y_true_labels, y_pred_labels, average='macro')\n",
        "\n",
        "    configuration_results_df.loc[config_str] = [accuracy, precision, recall, f1]\n",
        "    print(\"----------\")\n",
        "\n",
        "# Print and visualize the results\n",
        "print(\"Activation Function Results:\")\n",
        "print(activation_results_df)\n",
        "\n",
        "print(\"\\nConvolutional Configuration Results:\")\n",
        "print(configuration_results_df)\n",
        "\n",
        "# Create bar plots to compare metrics for activation functions\n",
        "activation_results_df.plot(kind='bar', title='Activation Function Comparison', figsize=(10, 6))\n",
        "plt.ylabel('Score')\n",
        "plt.xlabel('Activation Function')\n",
        "plt.show()\n",
        "\n",
        "# Create bar plots to compare metrics for convolutional configurations\n",
        "configuration_results_df.plot(kind='bar', title='Convolutional Configuration Comparison', figsize=(10, 6))\n",
        "plt.ylabel('Score')\n",
        "plt.xlabel('Convolutional Configuration')\n",
        "plt.show()"
      ],
      "metadata": {
        "colab": {
          "base_uri": "https://localhost:8080/",
          "height": 1000
        },
        "id": "G0JN3UE0wJHk",
        "outputId": "5884d108-c912-4ada-b480-6a39cd19dc09"
      },
      "execution_count": null,
      "outputs": [
        {
          "output_type": "stream",
          "name": "stdout",
          "text": [
            "Evaluating model with relu activation function\n",
            "313/313 [==============================] - 5s 17ms/step\n",
            "Classification Report:\n",
            "              precision    recall  f1-score   support\n",
            "\n",
            "           0       0.00      0.00      0.00       980\n",
            "           1       0.06      0.16      0.09      1135\n",
            "           2       0.00      0.00      0.00      1032\n",
            "           3       0.05      0.01      0.02      1010\n",
            "           4       0.21      0.91      0.34       982\n",
            "           5       0.08      0.22      0.11       892\n",
            "           6       0.00      0.00      0.00       958\n",
            "           7       0.00      0.00      0.00      1028\n",
            "           8       0.00      0.00      0.00       974\n",
            "           9       0.00      0.00      0.00      1009\n",
            "\n",
            "    accuracy                           0.13     10000\n",
            "   macro avg       0.04      0.13      0.06     10000\n",
            "weighted avg       0.04      0.13      0.06     10000\n",
            "\n",
            "----------\n",
            "Evaluating model with LeakyReLU activation function\n"
          ]
        },
        {
          "output_type": "stream",
          "name": "stderr",
          "text": [
            "/usr/local/lib/python3.10/dist-packages/sklearn/metrics/_classification.py:1344: UndefinedMetricWarning: Precision and F-score are ill-defined and being set to 0.0 in labels with no predicted samples. Use `zero_division` parameter to control this behavior.\n",
            "  _warn_prf(average, modifier, msg_start, len(result))\n",
            "/usr/local/lib/python3.10/dist-packages/sklearn/metrics/_classification.py:1344: UndefinedMetricWarning: Precision and F-score are ill-defined and being set to 0.0 in labels with no predicted samples. Use `zero_division` parameter to control this behavior.\n",
            "  _warn_prf(average, modifier, msg_start, len(result))\n",
            "/usr/local/lib/python3.10/dist-packages/sklearn/metrics/_classification.py:1344: UndefinedMetricWarning: Precision and F-score are ill-defined and being set to 0.0 in labels with no predicted samples. Use `zero_division` parameter to control this behavior.\n",
            "  _warn_prf(average, modifier, msg_start, len(result))\n",
            "/usr/local/lib/python3.10/dist-packages/sklearn/metrics/_classification.py:1344: UndefinedMetricWarning: Precision is ill-defined and being set to 0.0 in labels with no predicted samples. Use `zero_division` parameter to control this behavior.\n",
            "  _warn_prf(average, modifier, msg_start, len(result))\n"
          ]
        },
        {
          "output_type": "stream",
          "name": "stdout",
          "text": [
            "313/313 [==============================] - 3s 10ms/step\n",
            "Classification Report:\n",
            "              precision    recall  f1-score   support\n",
            "\n",
            "           0       0.00      0.00      0.00       980\n",
            "           1       0.00      0.00      0.00      1135\n",
            "           2       0.00      0.00      0.00      1032\n",
            "           3       0.00      0.00      0.00      1010\n",
            "           4       0.12      0.97      0.21       982\n",
            "           5       0.12      0.04      0.06       892\n",
            "           6       0.00      0.00      0.00       958\n",
            "           7       0.07      0.00      0.01      1028\n",
            "           8       0.01      0.01      0.01       974\n",
            "           9       0.00      0.00      0.00      1009\n",
            "\n",
            "    accuracy                           0.10     10000\n",
            "   macro avg       0.03      0.10      0.03     10000\n",
            "weighted avg       0.03      0.10      0.03     10000\n",
            "\n",
            "----------\n",
            "Evaluating model with sigmoid activation function\n"
          ]
        },
        {
          "output_type": "stream",
          "name": "stderr",
          "text": [
            "/usr/local/lib/python3.10/dist-packages/sklearn/metrics/_classification.py:1344: UndefinedMetricWarning: Precision and F-score are ill-defined and being set to 0.0 in labels with no predicted samples. Use `zero_division` parameter to control this behavior.\n",
            "  _warn_prf(average, modifier, msg_start, len(result))\n",
            "/usr/local/lib/python3.10/dist-packages/sklearn/metrics/_classification.py:1344: UndefinedMetricWarning: Precision and F-score are ill-defined and being set to 0.0 in labels with no predicted samples. Use `zero_division` parameter to control this behavior.\n",
            "  _warn_prf(average, modifier, msg_start, len(result))\n",
            "/usr/local/lib/python3.10/dist-packages/sklearn/metrics/_classification.py:1344: UndefinedMetricWarning: Precision and F-score are ill-defined and being set to 0.0 in labels with no predicted samples. Use `zero_division` parameter to control this behavior.\n",
            "  _warn_prf(average, modifier, msg_start, len(result))\n",
            "/usr/local/lib/python3.10/dist-packages/sklearn/metrics/_classification.py:1344: UndefinedMetricWarning: Precision is ill-defined and being set to 0.0 in labels with no predicted samples. Use `zero_division` parameter to control this behavior.\n",
            "  _warn_prf(average, modifier, msg_start, len(result))\n"
          ]
        },
        {
          "output_type": "stream",
          "name": "stdout",
          "text": [
            "313/313 [==============================] - 4s 11ms/step\n",
            "Classification Report:\n",
            "              precision    recall  f1-score   support\n",
            "\n",
            "           0       0.10      1.00      0.18       980\n",
            "           1       0.00      0.00      0.00      1135\n",
            "           2       0.00      0.00      0.00      1032\n",
            "           3       0.00      0.00      0.00      1010\n",
            "           4       0.00      0.00      0.00       982\n",
            "           5       0.00      0.00      0.00       892\n",
            "           6       0.00      0.00      0.00       958\n",
            "           7       0.00      0.00      0.00      1028\n",
            "           8       0.00      0.00      0.00       974\n",
            "           9       0.00      0.00      0.00      1009\n",
            "\n",
            "    accuracy                           0.10     10000\n",
            "   macro avg       0.01      0.10      0.02     10000\n",
            "weighted avg       0.01      0.10      0.02     10000\n",
            "\n",
            "----------\n",
            "Evaluating model with tanh activation function\n"
          ]
        },
        {
          "output_type": "stream",
          "name": "stderr",
          "text": [
            "/usr/local/lib/python3.10/dist-packages/sklearn/metrics/_classification.py:1344: UndefinedMetricWarning: Precision and F-score are ill-defined and being set to 0.0 in labels with no predicted samples. Use `zero_division` parameter to control this behavior.\n",
            "  _warn_prf(average, modifier, msg_start, len(result))\n",
            "/usr/local/lib/python3.10/dist-packages/sklearn/metrics/_classification.py:1344: UndefinedMetricWarning: Precision and F-score are ill-defined and being set to 0.0 in labels with no predicted samples. Use `zero_division` parameter to control this behavior.\n",
            "  _warn_prf(average, modifier, msg_start, len(result))\n",
            "/usr/local/lib/python3.10/dist-packages/sklearn/metrics/_classification.py:1344: UndefinedMetricWarning: Precision and F-score are ill-defined and being set to 0.0 in labels with no predicted samples. Use `zero_division` parameter to control this behavior.\n",
            "  _warn_prf(average, modifier, msg_start, len(result))\n",
            "/usr/local/lib/python3.10/dist-packages/sklearn/metrics/_classification.py:1344: UndefinedMetricWarning: Precision is ill-defined and being set to 0.0 in labels with no predicted samples. Use `zero_division` parameter to control this behavior.\n",
            "  _warn_prf(average, modifier, msg_start, len(result))\n"
          ]
        },
        {
          "output_type": "stream",
          "name": "stdout",
          "text": [
            "313/313 [==============================] - 3s 10ms/step\n",
            "Classification Report:\n",
            "              precision    recall  f1-score   support\n",
            "\n",
            "           0       0.00      0.00      0.00       980\n",
            "           1       0.00      0.00      0.00      1135\n",
            "           2       0.00      0.00      0.00      1032\n",
            "           3       0.04      0.00      0.00      1010\n",
            "           4       0.08      0.06      0.07       982\n",
            "           5       0.19      0.58      0.28       892\n",
            "           6       0.50      0.00      0.00       958\n",
            "           7       0.00      0.00      0.00      1028\n",
            "           8       0.05      0.04      0.05       974\n",
            "           9       0.10      0.55      0.17      1009\n",
            "\n",
            "    accuracy                           0.12     10000\n",
            "   macro avg       0.10      0.12      0.06     10000\n",
            "weighted avg       0.09      0.12      0.05     10000\n",
            "\n",
            "----------\n",
            "Evaluating model with 32 filters, (1, 1) kernel size, and (1, 1) strides\n"
          ]
        },
        {
          "output_type": "stream",
          "name": "stderr",
          "text": [
            "/usr/local/lib/python3.10/dist-packages/sklearn/metrics/_classification.py:1344: UndefinedMetricWarning: Precision and F-score are ill-defined and being set to 0.0 in labels with no predicted samples. Use `zero_division` parameter to control this behavior.\n",
            "  _warn_prf(average, modifier, msg_start, len(result))\n",
            "/usr/local/lib/python3.10/dist-packages/sklearn/metrics/_classification.py:1344: UndefinedMetricWarning: Precision and F-score are ill-defined and being set to 0.0 in labels with no predicted samples. Use `zero_division` parameter to control this behavior.\n",
            "  _warn_prf(average, modifier, msg_start, len(result))\n",
            "/usr/local/lib/python3.10/dist-packages/sklearn/metrics/_classification.py:1344: UndefinedMetricWarning: Precision and F-score are ill-defined and being set to 0.0 in labels with no predicted samples. Use `zero_division` parameter to control this behavior.\n",
            "  _warn_prf(average, modifier, msg_start, len(result))\n",
            "/usr/local/lib/python3.10/dist-packages/sklearn/metrics/_classification.py:1344: UndefinedMetricWarning: Precision is ill-defined and being set to 0.0 in labels with no predicted samples. Use `zero_division` parameter to control this behavior.\n",
            "  _warn_prf(average, modifier, msg_start, len(result))\n"
          ]
        },
        {
          "output_type": "stream",
          "name": "stdout",
          "text": [
            "313/313 [==============================] - 2s 5ms/step\n",
            "Classification Report:\n",
            "              precision    recall  f1-score   support\n",
            "\n",
            "           0       0.02      0.00      0.00       980\n",
            "           1       0.20      0.53      0.29      1135\n",
            "           2       0.04      0.01      0.01      1032\n",
            "           3       0.12      0.56      0.20      1010\n",
            "           4       0.79      0.06      0.11       982\n",
            "           5       0.10      0.06      0.08       892\n",
            "           6       0.01      0.01      0.01       958\n",
            "           7       0.00      0.00      0.00      1028\n",
            "           8       0.00      0.00      0.00       974\n",
            "           9       0.00      0.00      0.00      1009\n",
            "\n",
            "    accuracy                           0.13     10000\n",
            "   macro avg       0.13      0.12      0.07     10000\n",
            "weighted avg       0.13      0.13      0.07     10000\n",
            "\n",
            "----------\n",
            "Evaluating model with 64 filters, (1, 1) kernel size, and (1, 1) strides\n"
          ]
        },
        {
          "output_type": "stream",
          "name": "stderr",
          "text": [
            "/usr/local/lib/python3.10/dist-packages/sklearn/metrics/_classification.py:1344: UndefinedMetricWarning: Precision and F-score are ill-defined and being set to 0.0 in labels with no predicted samples. Use `zero_division` parameter to control this behavior.\n",
            "  _warn_prf(average, modifier, msg_start, len(result))\n",
            "/usr/local/lib/python3.10/dist-packages/sklearn/metrics/_classification.py:1344: UndefinedMetricWarning: Precision and F-score are ill-defined and being set to 0.0 in labels with no predicted samples. Use `zero_division` parameter to control this behavior.\n",
            "  _warn_prf(average, modifier, msg_start, len(result))\n",
            "/usr/local/lib/python3.10/dist-packages/sklearn/metrics/_classification.py:1344: UndefinedMetricWarning: Precision and F-score are ill-defined and being set to 0.0 in labels with no predicted samples. Use `zero_division` parameter to control this behavior.\n",
            "  _warn_prf(average, modifier, msg_start, len(result))\n",
            "/usr/local/lib/python3.10/dist-packages/sklearn/metrics/_classification.py:1344: UndefinedMetricWarning: Precision is ill-defined and being set to 0.0 in labels with no predicted samples. Use `zero_division` parameter to control this behavior.\n",
            "  _warn_prf(average, modifier, msg_start, len(result))\n"
          ]
        },
        {
          "output_type": "stream",
          "name": "stdout",
          "text": [
            "313/313 [==============================] - 3s 8ms/step\n",
            "Classification Report:\n",
            "              precision    recall  f1-score   support\n",
            "\n",
            "           0       0.00      0.00      0.00       980\n",
            "           1       0.00      0.00      0.00      1135\n",
            "           2       0.23      0.07      0.10      1032\n",
            "           3       0.00      0.00      0.00      1010\n",
            "           4       0.21      0.02      0.03       982\n",
            "           5       0.11      0.78      0.20       892\n",
            "           6       0.00      0.01      0.00       958\n",
            "           7       0.00      0.00      0.00      1028\n",
            "           8       0.00      0.00      0.00       974\n",
            "           9       0.16      0.16      0.16      1009\n",
            "\n",
            "    accuracy                           0.09     10000\n",
            "   macro avg       0.07      0.10      0.05     10000\n",
            "weighted avg       0.07      0.09      0.05     10000\n",
            "\n",
            "----------\n",
            "Evaluating model with 32 filters, (3, 3) kernel size, and (1, 1) strides\n"
          ]
        },
        {
          "output_type": "stream",
          "name": "stderr",
          "text": [
            "/usr/local/lib/python3.10/dist-packages/sklearn/metrics/_classification.py:1344: UndefinedMetricWarning: Precision and F-score are ill-defined and being set to 0.0 in labels with no predicted samples. Use `zero_division` parameter to control this behavior.\n",
            "  _warn_prf(average, modifier, msg_start, len(result))\n",
            "/usr/local/lib/python3.10/dist-packages/sklearn/metrics/_classification.py:1344: UndefinedMetricWarning: Precision and F-score are ill-defined and being set to 0.0 in labels with no predicted samples. Use `zero_division` parameter to control this behavior.\n",
            "  _warn_prf(average, modifier, msg_start, len(result))\n",
            "/usr/local/lib/python3.10/dist-packages/sklearn/metrics/_classification.py:1344: UndefinedMetricWarning: Precision and F-score are ill-defined and being set to 0.0 in labels with no predicted samples. Use `zero_division` parameter to control this behavior.\n",
            "  _warn_prf(average, modifier, msg_start, len(result))\n",
            "/usr/local/lib/python3.10/dist-packages/sklearn/metrics/_classification.py:1344: UndefinedMetricWarning: Precision is ill-defined and being set to 0.0 in labels with no predicted samples. Use `zero_division` parameter to control this behavior.\n",
            "  _warn_prf(average, modifier, msg_start, len(result))\n"
          ]
        },
        {
          "output_type": "stream",
          "name": "stdout",
          "text": [
            "313/313 [==============================] - 3s 10ms/step\n",
            "Classification Report:\n",
            "              precision    recall  f1-score   support\n",
            "\n",
            "           0       0.01      0.02      0.02       980\n",
            "           1       0.00      0.00      0.00      1135\n",
            "           2       0.00      0.00      0.00      1032\n",
            "           3       0.09      0.69      0.16      1010\n",
            "           4       0.00      0.00      0.00       982\n",
            "           5       0.24      0.02      0.04       892\n",
            "           6       0.00      0.00      0.00       958\n",
            "           7       0.00      0.00      0.00      1028\n",
            "           8       0.03      0.00      0.00       974\n",
            "           9       0.07      0.00      0.01      1009\n",
            "\n",
            "    accuracy                           0.07     10000\n",
            "   macro avg       0.05      0.07      0.02     10000\n",
            "weighted avg       0.04      0.07      0.02     10000\n",
            "\n",
            "----------\n",
            "Evaluating model with 64 filters, (3, 3) kernel size, and (1, 1) strides\n"
          ]
        },
        {
          "output_type": "stream",
          "name": "stderr",
          "text": [
            "/usr/local/lib/python3.10/dist-packages/sklearn/metrics/_classification.py:1344: UndefinedMetricWarning: Precision and F-score are ill-defined and being set to 0.0 in labels with no predicted samples. Use `zero_division` parameter to control this behavior.\n",
            "  _warn_prf(average, modifier, msg_start, len(result))\n",
            "/usr/local/lib/python3.10/dist-packages/sklearn/metrics/_classification.py:1344: UndefinedMetricWarning: Precision and F-score are ill-defined and being set to 0.0 in labels with no predicted samples. Use `zero_division` parameter to control this behavior.\n",
            "  _warn_prf(average, modifier, msg_start, len(result))\n",
            "/usr/local/lib/python3.10/dist-packages/sklearn/metrics/_classification.py:1344: UndefinedMetricWarning: Precision and F-score are ill-defined and being set to 0.0 in labels with no predicted samples. Use `zero_division` parameter to control this behavior.\n",
            "  _warn_prf(average, modifier, msg_start, len(result))\n",
            "/usr/local/lib/python3.10/dist-packages/sklearn/metrics/_classification.py:1344: UndefinedMetricWarning: Precision is ill-defined and being set to 0.0 in labels with no predicted samples. Use `zero_division` parameter to control this behavior.\n",
            "  _warn_prf(average, modifier, msg_start, len(result))\n"
          ]
        },
        {
          "output_type": "stream",
          "name": "stdout",
          "text": [
            "313/313 [==============================] - 6s 19ms/step\n",
            "Classification Report:\n",
            "              precision    recall  f1-score   support\n",
            "\n",
            "           0       0.01      0.00      0.00       980\n",
            "           1       0.00      0.00      0.00      1135\n",
            "           2       0.21      0.06      0.09      1032\n",
            "           3       0.09      0.02      0.03      1010\n",
            "           4       0.14      0.01      0.01       982\n",
            "           5       0.00      0.00      0.00       892\n",
            "           6       0.10      0.97      0.19       958\n",
            "           7       0.00      0.00      0.00      1028\n",
            "           8       0.00      0.00      0.00       974\n",
            "           9       0.03      0.00      0.00      1009\n",
            "\n",
            "    accuracy                           0.10     10000\n",
            "   macro avg       0.06      0.11      0.03     10000\n",
            "weighted avg       0.06      0.10      0.03     10000\n",
            "\n",
            "----------\n",
            "Activation Function Results:\n",
            "          accuracy precision    recall  f1-score\n",
            "relu         0.128  0.040421  0.129889  0.056482\n",
            "LeakyReLU   0.1008  0.031612  0.103043  0.028562\n",
            "sigmoid      0.098    0.0098       0.1  0.017851\n",
            "tanh        0.1172  0.095961  0.123164  0.057348\n",
            "\n",
            "Convolutional Configuration Results:\n",
            "                      accuracy  precision    recall  f1-score\n",
            "(32, (1, 1), (1, 1))       NaN        NaN       NaN       NaN\n",
            "(64, (1, 1), (1, 1))       NaN        NaN       NaN       NaN\n",
            "(32, (3, 3), (1, 1))       NaN        NaN       NaN       NaN\n",
            "(64, (3, 3), (1, 1))       NaN        NaN       NaN       NaN\n",
            "32-1x1-1x1              0.1296   0.128666  0.122790  0.070734\n",
            "64-1x1-1x1              0.0946   0.071279  0.102771  0.048967\n",
            "32-3x3-1x1              0.0742   0.045038  0.073804  0.022716\n",
            "64-3x3-1x1              0.1014   0.057497  0.105264  0.032374\n"
          ]
        },
        {
          "output_type": "stream",
          "name": "stderr",
          "text": [
            "/usr/local/lib/python3.10/dist-packages/sklearn/metrics/_classification.py:1344: UndefinedMetricWarning: Precision and F-score are ill-defined and being set to 0.0 in labels with no predicted samples. Use `zero_division` parameter to control this behavior.\n",
            "  _warn_prf(average, modifier, msg_start, len(result))\n",
            "/usr/local/lib/python3.10/dist-packages/sklearn/metrics/_classification.py:1344: UndefinedMetricWarning: Precision and F-score are ill-defined and being set to 0.0 in labels with no predicted samples. Use `zero_division` parameter to control this behavior.\n",
            "  _warn_prf(average, modifier, msg_start, len(result))\n",
            "/usr/local/lib/python3.10/dist-packages/sklearn/metrics/_classification.py:1344: UndefinedMetricWarning: Precision and F-score are ill-defined and being set to 0.0 in labels with no predicted samples. Use `zero_division` parameter to control this behavior.\n",
            "  _warn_prf(average, modifier, msg_start, len(result))\n",
            "/usr/local/lib/python3.10/dist-packages/sklearn/metrics/_classification.py:1344: UndefinedMetricWarning: Precision is ill-defined and being set to 0.0 in labels with no predicted samples. Use `zero_division` parameter to control this behavior.\n",
            "  _warn_prf(average, modifier, msg_start, len(result))\n"
          ]
        },
        {
          "output_type": "display_data",
          "data": {
            "text/plain": [
              "<Figure size 1000x600 with 1 Axes>"
            ],
            "image/png": "[encoded data removed]"
          },
          "metadata": {}
        },
        {
          "output_type": "display_data",
          "data": {
            "text/plain": [
              "<Figure size 1000x600 with 1 Axes>"
            ],
            "image/png": "[encoded data removed]"
          },
          "metadata": {}
        }
      ]
    },
    {
      "cell_type": "markdown",
      "source": [
        "`~~~`"
      ],
      "metadata": {
        "id": "zb7EXCsKKrFv"
      }
    }
  ]
}
